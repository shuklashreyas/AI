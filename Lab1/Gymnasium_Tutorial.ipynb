{
 "cells": [
  {
   "cell_type": "markdown",
   "id": "cac53cf9-7bfa-4da8-9506-c2dba2dda92e",
   "metadata": {},
   "source": [
    "Lab : Intro to Gymnasium\n",
    "----\n",
    "\n",
    "As we are steadily advancing towards Reinforcement Learning in class, it's time to get our hands dirty with another cool Python package. Gymnasium, originally developed by OpenAI is a useful tool that is commonly used for solving RL-related challenges. With Gymnasium, users can easily design, implement, and evaluate reinforcement learning algorithms by leveraging predefined environments such as classic control tasks, Atari 2600 games, and more. Furthermore, Gymnasium provides an easy API to implement your own environments!"
   ]
  },
  {
   "cell_type": "markdown",
   "id": "b52ed948-05a8-4a3f-9a66-c2a754c8b329",
   "metadata": {},
   "source": [
    "First, let's get started with installing Gymnasium!\n",
    "\n",
    "Step 1. Make sure you have python and pip installed. Check the installation of python and pip using \n",
    "- `python --version` and `pip --version`\n",
    "If pip is not installed:\n",
    "- Follow the steps listed for your respective operating system at [Pip Docs - Installation](https://pip.pypa.io/en/stable/installation/).\n",
    "\n",
    "Step 2. Now execute `pip install gym` in your terminal to install gymnasium or run the cell below."
   ]
  },
  {
   "cell_type": "code",
   "execution_count": 1,
   "id": "5b3d3a92-0ace-4d2b-9389-93d9fd4699f3",
   "metadata": {},
   "outputs": [
    {
     "name": "stdout",
     "output_type": "stream",
     "text": [
      "Collecting gym\n",
      "  Downloading gym-0.26.2.tar.gz (721 kB)\n",
      "\u001b[2K     \u001b[90m━━━━━━━━━━━━━━━━━━━━━━━━━━━━━━━━━━━━━━\u001b[0m \u001b[32m721.7/721.7 kB\u001b[0m \u001b[31m12.0 MB/s\u001b[0m eta \u001b[36m0:00:00\u001b[0m\n",
      "\u001b[?25h  Installing build dependencies ... \u001b[?25ldone\n",
      "\u001b[?25h  Getting requirements to build wheel ... \u001b[?25ldone\n",
      "\u001b[?25h  Preparing metadata (pyproject.toml) ... \u001b[?25ldone\n",
      "\u001b[?25hRequirement already satisfied: numpy>=1.18.0 in /opt/homebrew/Caskroom/miniconda/base/envs/a1/lib/python3.11/site-packages (from gym) (1.24.3)\n",
      "Requirement already satisfied: cloudpickle>=1.2.0 in /opt/homebrew/Caskroom/miniconda/base/envs/a1/lib/python3.11/site-packages (from gym) (3.1.1)\n",
      "Collecting gym_notices>=0.0.4 (from gym)\n",
      "  Downloading gym_notices-0.0.8-py3-none-any.whl.metadata (1.0 kB)\n",
      "Downloading gym_notices-0.0.8-py3-none-any.whl (3.0 kB)\n",
      "Building wheels for collected packages: gym\n",
      "  Building wheel for gym (pyproject.toml) ... \u001b[?25ldone\n",
      "\u001b[?25h  Created wheel for gym: filename=gym-0.26.2-py3-none-any.whl size=827727 sha256=1608273a6af53ee750e921bb732c7eb0d36e5cab8f07f9ec1215a6b4b813d57d\n",
      "  Stored in directory: /Users/shreyas/Library/Caches/pip/wheels/1c/77/9e/9af5470201a0b0543937933ee99ba884cd237d2faefe8f4d37\n",
      "Successfully built gym\n",
      "Installing collected packages: gym_notices, gym\n",
      "\u001b[2K   \u001b[90m━━━━━━━━━━━━━━━━━━━━━━━━━━━━━━━━━━━━━━━━\u001b[0m \u001b[32m2/2\u001b[0m [gym]\n",
      "\u001b[1A\u001b[2KSuccessfully installed gym-0.26.2 gym_notices-0.0.8\n"
     ]
    }
   ],
   "source": [
    "!pip install gym"
   ]
  },
  {
   "cell_type": "markdown",
   "id": "1ccaff9a-c81d-4889-9236-b65341252f47",
   "metadata": {},
   "source": [
    "Now to verify installation of gym execute the cell below"
   ]
  },
  {
   "cell_type": "code",
   "execution_count": 4,
   "id": "af7d2e68-590a-450e-8e64-a031afabe535",
   "metadata": {},
   "outputs": [],
   "source": [
    "import gym"
   ]
  },
  {
   "cell_type": "markdown",
   "id": "2d3c4595-a2f2-4995-a65f-74d48bb57b48",
   "metadata": {},
   "source": [
    "Great! Now let's talk about environments! \n",
    "\n",
    "The fundamental building block of OpenAI Gym is the `Env` class. It is a Python class that implements a simulator that runs the  environment you want to train your agent in. Open AI Gym comes packed with a lot of environments, such as one where you can move a car up a hill, balance a swinging pendulum etc. Take a moment now to visit [Gymnasium - Farama](https://gymnasium.farama.org/) to see the complete list of environments, along with demonstrations of what the task in each environment is. \n",
    "\n",
    "In this lab, we will begin with the `MountainCar` environment. Our goal is to control a car on a track positioned between two mountains. The objective is to drive up the mountain on the right, but the car's engine lacks the power to climb it directly. To solve this problem, we require the car to make strategic back-and-forth movements to build momentum. \n",
    "\n",
    "Let's see how we can train our car to climb up the mountain using gymnasium."
   ]
  },
  {
   "cell_type": "markdown",
   "id": "a7c64f01-9657-4071-a037-71919d671119",
   "metadata": {},
   "source": [
    "## Part 1"
   ]
  },
  {
   "cell_type": "code",
   "execution_count": null,
   "id": "eb0da5d9-ba4b-4764-accf-1ca1e05948f4",
   "metadata": {},
   "outputs": [],
   "source": [
    "# While creating our mountain car environment, render_mode is an optional argument. \n",
    "# It is used to render the environment visually when needed.\n",
    "# For more details, visit https://gymnasium.farama.org/api/env/\n",
    "\n",
    "env = gym.make('MountainCar-v0', render_mode=\"rgb_array\")\n"
   ]
  },
  {
   "cell_type": "markdown",
   "id": "3be7abdf-d9b9-42b4-9a8c-2efa1997704d",
   "metadata": {},
   "source": [
    "In Reinforcement Learning, we think of two key terms - the `Observation Space` and `Action space`.\n",
    "\n",
    "The `Observation Space` is the set of all possible observations that an agent can receive from the environment. These observations provide information about the current state of the environment. Observations can be diverse and may include sensor readings, images, or any relevant data that helps the agent make decisions.\n",
    "\n",
    "For example, for an agent trying to learn how to shoot a target the observation space can include - the agent's current position or location, the position and movement of the target, information about obstacles or barriers in the environment if any, and the agent's ammunition status or the number of bullets remaining.\n",
    "\n",
    "The `Action Space` represents the set of possible actions that the agent can take to interact with the environment. These actions represent the decisions or movements that the agent can make to interact with the environment.\n",
    "\n",
    "For example for an agent trying to learn how to shoot a target the action space can include - adjusting the aim or direction of the firearm, pulling the trigger to shoot, reloading the firearm, and changing the stance or position of the agent.\n",
    "\n",
    "The basic structure of the environment is described by the observation_space and the action_space attributes of the Gym Env class."
   ]
  },
  {
   "cell_type": "markdown",
   "id": "480cd8d0-0dfc-4d21-b5f4-48f74d1bb7a6",
   "metadata": {},
   "source": [
    "## To-do \n",
    "Can you guess what the observation space and action space of the mountain car problem would be? Write your answer below. Try to provide 2-3 examples for each.\n"
   ]
  },
  {
   "cell_type": "markdown",
   "id": "78f0ae5a-1466-47a2-9a0f-fe36d6511653",
   "metadata": {},
   "source": [
    "Observation Space examples (what the agent sees):\n",
    "1. Current position of the car along the track\n",
    "2. Current velocity of the car\n",
    "3. Whether the car is moving toward the hill or away from it\n",
    "\n",
    "Action Space examples (what the agent can do):\n",
    "1. Accelerate to the left\n",
    "2. Do nothing (coast)\n",
    "3. Accelerate to the right"
   ]
  },
  {
   "cell_type": "code",
   "execution_count": 6,
   "id": "d161a237-b07c-4228-8f41-e422a45ccc49",
   "metadata": {},
   "outputs": [
    {
     "name": "stdout",
     "output_type": "stream",
     "text": [
      "The observation space: Box([-1.2  -0.07], [0.6  0.07], (2,), float32)\n",
      "The action space: Discrete(3)\n"
     ]
    }
   ],
   "source": [
    "# Observation and action space for mountain-view problem\n",
    "obs_space = env.observation_space\n",
    "action_space = env.action_space\n",
    "print(\"The observation space: {}\".format(obs_space))\n",
    "print(\"The action space: {}\".format(action_space))"
   ]
  },
  {
   "cell_type": "markdown",
   "id": "ee6e1260-0405-497b-b1a8-3c4033200966",
   "metadata": {},
   "source": [
    "The observation_space for our environment is a Box with shape (2,), and returns two lists with entries of type float32.\n",
    "The action_space was Discrete with shape (2). \n",
    "\n",
    "What do these actually mean? \n",
    "\n",
    "Both Box and Discrete are types of data structures called \"Spaces\" provided by Gym, modeling various aspects of the problem at hand. All of these data structures are derived from the gym.Space base class.\n",
    "\n",
    "Box, for instance, is used when modeling real-valued quantities, i.e. a continuous space. The printed output can be a bit tricky to read - the first list in the observation space above contains minimum values for the set of quantities that are modeled, and the second list contains the maxima. \n",
    "\n",
    "For this particular problem (Mountain Car), the values at index 0 within both lists refer to the minimum and maximum value of the car's position along the x-axis, i.e. the car will always be between x=-1.2 and x=0.6. The values at index 1 represent the range of the velocity, i.e. the car's speed will be between -0.07 and 0.07. Both these values are allowed to vary continuously with the precision of the float32 dtype.\n",
    "\n",
    "Discrete, on the other hand, signifies that there are a finite number of options to choose from. In this case, Discrete(3) represents the fact that the agent has three choices: 0: accelerate left, 1: don't accelerate, and 2: accelerate right. The easiest way to find descriptions for actions (and their indices) is to visit the [Gymnasium page for that task](https://gymnasium.farama.org/environments/classic_control/mountain_car/)."
   ]
  },
  {
   "cell_type": "code",
   "execution_count": 7,
   "id": "65911af6-c32d-45bc-aa78-a5257e3b9195",
   "metadata": {},
   "outputs": [
    {
     "name": "stdout",
     "output_type": "stream",
     "text": [
      "Upper Bound for Env Observation [0.6  0.07]\n",
      "Lower Bound for Env Observation [-1.2  -0.07]\n"
     ]
    }
   ],
   "source": [
    "print(\"Upper Bound for Env Observation\", env.observation_space.high)\n",
    "print(\"Lower Bound for Env Observation\", env.observation_space.low)"
   ]
  },
  {
   "cell_type": "markdown",
   "id": "8ca0d771-dee2-4571-b337-1abb978f9549",
   "metadata": {},
   "source": [
    "You can set these upper/lower limits while defining your space, as well as when you are creating an environment.\n",
    "\n",
    "From here on, remember that an observation for the mountain car environment is a vector of two numbers, representing position and velocity respectively. The middle point between the two mountains in the environment is taken to be the origin, with the right being considered the positive direction and the left being the negative direction."
   ]
  },
  {
   "cell_type": "markdown",
   "id": "f02de71b-4878-4222-ba60-262972798b87",
   "metadata": {},
   "source": [
    "Now let's talk about how the env class helps the agent interact with the environment!\n",
    "\n",
    "`reset`: This function returns the initial observation of the environment after placing the agent back in its starting state. Our first observation in any RL task implemented using Gymnasium must be obtained by calling this function. This function should also be called every time a terminal/end state is reached.\n",
    "`step`: This function takes an action as input, applies it to the environment, and returns the following:\n",
    "- `observation`: The current state of the environment after the action is taken.\n",
    "- `reward`: The reward obtained from the action.\n",
    "- `terminated`: Return true or false, depending on whether the agent has reached a terminal state (as defined under the task).\n",
    "- `truncated`: Determine if the truncation condition, often a time limit or agent going out of bounds, is satisfied. This can prompt an early episode termination before reaching a terminal state. Think of this as cases that may end a game preemptively.\n",
    "- `info`: Extra information for debugging or environment-specific details, such as lives remaining.\n",
    "\n",
    "Next, we demonstrate the step function, which is how we get the agent to execute an action in a Gymnasium environment. For now, we will simply pick a random action from the environment's action space. "
   ]
  },
  {
   "cell_type": "code",
   "execution_count": 8,
   "id": "d1898f7c-34f7-4501-abb2-acc459a90bcf",
   "metadata": {},
   "outputs": [
    {
     "name": "stdout",
     "output_type": "stream",
     "text": [
      "The initial observation is (array([-0.4588618,  0.       ], dtype=float32), {})\n",
      "The new observation is [-0.45834428  0.00051752]\n"
     ]
    },
    {
     "name": "stderr",
     "output_type": "stream",
     "text": [
      "/opt/homebrew/Caskroom/miniconda/base/envs/a1/lib/python3.11/site-packages/gym/utils/passive_env_checker.py:233: DeprecationWarning: `np.bool8` is a deprecated alias for `np.bool_`.  (Deprecated NumPy 1.24)\n",
      "  if not isinstance(terminated, (bool, np.bool8)):\n"
     ]
    }
   ],
   "source": [
    "# reset the environment and see the initial observation\n",
    "obs = env.reset()\n",
    "print(\"The initial observation is {}\".format(obs))\n",
    "\n",
    "# Sample a random action from the entire action space\n",
    "random_action = env.action_space.sample()\n",
    "\n",
    "# # Take the action and get the new observation space\n",
    "new_obs, reward, terminated, truncated, info = env.step(random_action)\n",
    "print(\"The new observation is {}\".format(new_obs))"
   ]
  },
  {
   "cell_type": "code",
   "execution_count": 9,
   "id": "d3e61c01-ae9a-4d66-923e-b77aa005d63e",
   "metadata": {},
   "outputs": [
    {
     "name": "stdout",
     "output_type": "stream",
     "text": [
      "Found existing installation: pygame 2.6.1\n",
      "Uninstalling pygame-2.6.1:\n",
      "  Successfully uninstalled pygame-2.6.1\n",
      "Collecting pygame\n",
      "  Using cached pygame-2.6.1-cp311-cp311-macosx_11_0_arm64.whl.metadata (12 kB)\n",
      "Using cached pygame-2.6.1-cp311-cp311-macosx_11_0_arm64.whl (12.4 MB)\n",
      "Installing collected packages: pygame\n",
      "Successfully installed pygame-2.6.1\n",
      "Requirement already satisfied: gym[classic_control] in /opt/homebrew/Caskroom/miniconda/base/envs/a1/lib/python3.11/site-packages (0.26.2)\n",
      "Requirement already satisfied: numpy>=1.18.0 in /opt/homebrew/Caskroom/miniconda/base/envs/a1/lib/python3.11/site-packages (from gym[classic_control]) (1.24.3)\n",
      "Requirement already satisfied: cloudpickle>=1.2.0 in /opt/homebrew/Caskroom/miniconda/base/envs/a1/lib/python3.11/site-packages (from gym[classic_control]) (3.1.1)\n",
      "Requirement already satisfied: gym_notices>=0.0.4 in /opt/homebrew/Caskroom/miniconda/base/envs/a1/lib/python3.11/site-packages (from gym[classic_control]) (0.0.8)\n",
      "Collecting pygame==2.1.0 (from gym[classic_control])\n",
      "  Downloading pygame-2.1.0.tar.gz (5.8 MB)\n",
      "\u001b[2K     \u001b[90m━━━━━━━━━━━━━━━━━━━━━━━━━━━━━━━━━━━━━━━━\u001b[0m \u001b[32m5.8/5.8 MB\u001b[0m \u001b[31m21.5 MB/s\u001b[0m eta \u001b[36m0:00:00\u001b[0ma \u001b[36m0:00:01\u001b[0m\n",
      "\u001b[?25h  Preparing metadata (setup.py) ... \u001b[?25lerror\n",
      "  \u001b[1;31merror\u001b[0m: \u001b[1msubprocess-exited-with-error\u001b[0m\n",
      "  \n",
      "  \u001b[31m×\u001b[0m \u001b[32mpython setup.py egg_info\u001b[0m did not run successfully.\n",
      "  \u001b[31m│\u001b[0m exit code: \u001b[1;36m1\u001b[0m\n",
      "  \u001b[31m╰─>\u001b[0m \u001b[31m[34 lines of output]\u001b[0m\n",
      "  \u001b[31m   \u001b[0m \n",
      "  \u001b[31m   \u001b[0m \n",
      "  \u001b[31m   \u001b[0m WARNING, No \"Setup\" File Exists, Running \"buildconfig/config.py\"\n",
      "  \u001b[31m   \u001b[0m Using Darwin configuration...\n",
      "  \u001b[31m   \u001b[0m \n",
      "  \u001b[31m   \u001b[0m /bin/sh: pkg-config: command not found\n",
      "  \u001b[31m   \u001b[0m /bin/sh: pkg-config: command not found\n",
      "  \u001b[31m   \u001b[0m /bin/sh: pkg-config: command not found\n",
      "  \u001b[31m   \u001b[0m \n",
      "  \u001b[31m   \u001b[0m ---\n",
      "  \u001b[31m   \u001b[0m For help with compilation see:\n",
      "  \u001b[31m   \u001b[0m     https://www.pygame.org/wiki/MacCompile\n",
      "  \u001b[31m   \u001b[0m To contribute to pygame development see:\n",
      "  \u001b[31m   \u001b[0m     https://www.pygame.org/contribute.html\n",
      "  \u001b[31m   \u001b[0m ---\n",
      "  \u001b[31m   \u001b[0m \n",
      "  \u001b[31m   \u001b[0m Traceback (most recent call last):\n",
      "  \u001b[31m   \u001b[0m   File \"<string>\", line 2, in <module>\n",
      "  \u001b[31m   \u001b[0m   File \"<pip-setuptools-caller>\", line 35, in <module>\n",
      "  \u001b[31m   \u001b[0m   File \"/private/var/folders/_w/v3q2hr0x7qzb2pk_1v1k0slc0000gn/T/pip-install-lc3vvgn3/pygame_3ea4b1557ff4476eadfcf64dc78a3ec6/setup.py\", line 388, in <module>\n",
      "  \u001b[31m   \u001b[0m     buildconfig.config.main(AUTO_CONFIG)\n",
      "  \u001b[31m   \u001b[0m   File \"/private/var/folders/_w/v3q2hr0x7qzb2pk_1v1k0slc0000gn/T/pip-install-lc3vvgn3/pygame_3ea4b1557ff4476eadfcf64dc78a3ec6/buildconfig/config.py\", line 234, in main\n",
      "  \u001b[31m   \u001b[0m     deps = CFG.main(**kwds)\n",
      "  \u001b[31m   \u001b[0m            ^^^^^^^^^^^^^^^^\n",
      "  \u001b[31m   \u001b[0m   File \"/private/var/folders/_w/v3q2hr0x7qzb2pk_1v1k0slc0000gn/T/pip-install-lc3vvgn3/pygame_3ea4b1557ff4476eadfcf64dc78a3ec6/buildconfig/config_darwin.py\", line 143, in main\n",
      "  \u001b[31m   \u001b[0m     find_freetype(),\n",
      "  \u001b[31m   \u001b[0m     ^^^^^^^^^^^^^^^\n",
      "  \u001b[31m   \u001b[0m   File \"/private/var/folders/_w/v3q2hr0x7qzb2pk_1v1k0slc0000gn/T/pip-install-lc3vvgn3/pygame_3ea4b1557ff4476eadfcf64dc78a3ec6/buildconfig/config_darwin.py\", line 110, in find_freetype\n",
      "  \u001b[31m   \u001b[0m     pkg_config = DependencyProg(\n",
      "  \u001b[31m   \u001b[0m                  ^^^^^^^^^^^^^^^\n",
      "  \u001b[31m   \u001b[0m   File \"/private/var/folders/_w/v3q2hr0x7qzb2pk_1v1k0slc0000gn/T/pip-install-lc3vvgn3/pygame_3ea4b1557ff4476eadfcf64dc78a3ec6/buildconfig/config_unix.py\", line 39, in __init__\n",
      "  \u001b[31m   \u001b[0m     self.ver = config[0].strip()\n",
      "  \u001b[31m   \u001b[0m                ~~~~~~^^^\n",
      "  \u001b[31m   \u001b[0m IndexError: list index out of range\n",
      "  \u001b[31m   \u001b[0m \u001b[31m[end of output]\u001b[0m\n",
      "  \n",
      "  \u001b[1;35mnote\u001b[0m: This error originates from a subprocess, and is likely not a problem with pip.\n",
      "\u001b[?25h\u001b[1;31merror\u001b[0m: \u001b[1mmetadata-generation-failed\u001b[0m\n",
      "\n",
      "\u001b[31m×\u001b[0m Encountered error while generating package metadata.\n",
      "\u001b[31m╰─>\u001b[0m See above for output.\n",
      "\n",
      "\u001b[1;35mnote\u001b[0m: This is an issue with the package mentioned above, not pip.\n",
      "\u001b[1;36mhint\u001b[0m: See above for details.\n"
     ]
    }
   ],
   "source": [
    "# This step is optional and only needs to be executed if you want to render and view the environment. \n",
    "# May be finicky on MacOS. It's fine to skip it for now!\n",
    "!pip uninstall -y pygame\n",
    "!pip install pygame --pre\n",
    "!pip install 'gym[classic_control]'"
   ]
  },
  {
   "cell_type": "code",
   "execution_count": 10,
   "id": "28d9d259-6933-420a-8201-a536429bec29",
   "metadata": {},
   "outputs": [],
   "source": [
    "env.close()\n",
    "# only way to end a simulation"
   ]
  },
  {
   "cell_type": "markdown",
   "id": "68f1cd30-8d74-4d44-8bbf-422034a674af",
   "metadata": {},
   "source": [
    "# To-do\n",
    "Now it's your turn to try writing code to see how far up the hill this cart can go by taking random steps in this environment.\\\n",
    "Since we are not training the agent at all, we don't expect to see much progress, but this should give us a good idea of how gymnasium works."
   ]
  },
  {
   "cell_type": "markdown",
   "id": "61e95af7-3928-4a67-96f0-042eb1813e73",
   "metadata": {},
   "source": [
    "#### To Ponder:\n",
    "\n",
    "In the previous code block where we were taking actions, we didn't use the agent's state and reward to decide the best action from the new state. All the generated actions are random, and you'll be doing the same thing below. We'll learn how to train agents in lecture!"
   ]
  },
  {
   "cell_type": "code",
   "execution_count": 13,
   "id": "cef06417-1720-42fd-9045-0cef49e52bea",
   "metadata": {},
   "outputs": [
    {
     "ename": "KeyboardInterrupt",
     "evalue": "",
     "output_type": "error",
     "traceback": [
      "\u001b[31m---------------------------------------------------------------------------\u001b[39m",
      "\u001b[31mKeyboardInterrupt\u001b[39m                         Traceback (most recent call last)",
      "\u001b[36mCell\u001b[39m\u001b[36m \u001b[39m\u001b[32mIn[13]\u001b[39m\u001b[32m, line 17\u001b[39m\n\u001b[32m     13\u001b[39m \u001b[38;5;28;01mfor\u001b[39;00m step \u001b[38;5;129;01min\u001b[39;00m \u001b[38;5;28mrange\u001b[39m(num_steps):\n\u001b[32m     14\u001b[39m     \u001b[38;5;66;03m# Render the env here (Rendering might take longer for the cell to execute. \u001b[39;00m\n\u001b[32m     15\u001b[39m     \u001b[38;5;66;03m# Stop execution once you get a sense of what's happening and move on to the next part of the lab).\u001b[39;00m\n\u001b[32m     16\u001b[39m     plt.imshow(env.render())\n\u001b[32m---> \u001b[39m\u001b[32m17\u001b[39m     \u001b[43mdisplay\u001b[49m\u001b[43m.\u001b[49m\u001b[43mdisplay\u001b[49m\u001b[43m(\u001b[49m\u001b[43mplt\u001b[49m\u001b[43m.\u001b[49m\u001b[43mgcf\u001b[49m\u001b[43m(\u001b[49m\u001b[43m)\u001b[49m\u001b[43m)\u001b[49m\n\u001b[32m     18\u001b[39m     display.clear_output(wait=\u001b[38;5;28;01mTrue\u001b[39;00m) \n\u001b[32m     20\u001b[39m     \u001b[38;5;66;03m# take random action (based on examples above)\u001b[39;00m\n",
      "\u001b[36mFile \u001b[39m\u001b[32m/opt/homebrew/Caskroom/miniconda/base/envs/a1/lib/python3.11/site-packages/IPython/core/display_functions.py:278\u001b[39m, in \u001b[36mdisplay\u001b[39m\u001b[34m(include, exclude, metadata, transient, display_id, raw, clear, *objs, **kwargs)\u001b[39m\n\u001b[32m    276\u001b[39m     publish_display_data(data=obj, metadata=metadata, **kwargs)\n\u001b[32m    277\u001b[39m \u001b[38;5;28;01melse\u001b[39;00m:\n\u001b[32m--> \u001b[39m\u001b[32m278\u001b[39m     format_dict, md_dict = \u001b[38;5;28;43mformat\u001b[39;49m\u001b[43m(\u001b[49m\u001b[43mobj\u001b[49m\u001b[43m,\u001b[49m\u001b[43m \u001b[49m\u001b[43minclude\u001b[49m\u001b[43m=\u001b[49m\u001b[43minclude\u001b[49m\u001b[43m,\u001b[49m\u001b[43m \u001b[49m\u001b[43mexclude\u001b[49m\u001b[43m=\u001b[49m\u001b[43mexclude\u001b[49m\u001b[43m)\u001b[49m\n\u001b[32m    279\u001b[39m     \u001b[38;5;28;01mif\u001b[39;00m \u001b[38;5;129;01mnot\u001b[39;00m format_dict:\n\u001b[32m    280\u001b[39m         \u001b[38;5;66;03m# nothing to display (e.g. _ipython_display_ took over)\u001b[39;00m\n\u001b[32m    281\u001b[39m         \u001b[38;5;28;01mcontinue\u001b[39;00m\n",
      "\u001b[36mFile \u001b[39m\u001b[32m/opt/homebrew/Caskroom/miniconda/base/envs/a1/lib/python3.11/site-packages/IPython/core/formatters.py:238\u001b[39m, in \u001b[36mDisplayFormatter.format\u001b[39m\u001b[34m(self, obj, include, exclude)\u001b[39m\n\u001b[32m    236\u001b[39m md = \u001b[38;5;28;01mNone\u001b[39;00m\n\u001b[32m    237\u001b[39m \u001b[38;5;28;01mtry\u001b[39;00m:\n\u001b[32m--> \u001b[39m\u001b[32m238\u001b[39m     data = \u001b[43mformatter\u001b[49m\u001b[43m(\u001b[49m\u001b[43mobj\u001b[49m\u001b[43m)\u001b[49m\n\u001b[32m    239\u001b[39m \u001b[38;5;28;01mexcept\u001b[39;00m:\n\u001b[32m    240\u001b[39m     \u001b[38;5;66;03m# FIXME: log the exception\u001b[39;00m\n\u001b[32m    241\u001b[39m     \u001b[38;5;28;01mraise\u001b[39;00m\n",
      "\u001b[36mFile \u001b[39m\u001b[32m/opt/homebrew/Caskroom/miniconda/base/envs/a1/lib/python3.11/site-packages/decorator.py:235\u001b[39m, in \u001b[36mdecorate.<locals>.fun\u001b[39m\u001b[34m(*args, **kw)\u001b[39m\n\u001b[32m    233\u001b[39m \u001b[38;5;28;01mif\u001b[39;00m \u001b[38;5;129;01mnot\u001b[39;00m kwsyntax:\n\u001b[32m    234\u001b[39m     args, kw = fix(args, kw, sig)\n\u001b[32m--> \u001b[39m\u001b[32m235\u001b[39m \u001b[38;5;28;01mreturn\u001b[39;00m \u001b[43mcaller\u001b[49m\u001b[43m(\u001b[49m\u001b[43mfunc\u001b[49m\u001b[43m,\u001b[49m\u001b[43m \u001b[49m\u001b[43m*\u001b[49m\u001b[43m(\u001b[49m\u001b[43mextras\u001b[49m\u001b[43m \u001b[49m\u001b[43m+\u001b[49m\u001b[43m \u001b[49m\u001b[43margs\u001b[49m\u001b[43m)\u001b[49m\u001b[43m,\u001b[49m\u001b[43m \u001b[49m\u001b[43m*\u001b[49m\u001b[43m*\u001b[49m\u001b[43mkw\u001b[49m\u001b[43m)\u001b[49m\n",
      "\u001b[36mFile \u001b[39m\u001b[32m/opt/homebrew/Caskroom/miniconda/base/envs/a1/lib/python3.11/site-packages/IPython/core/formatters.py:282\u001b[39m, in \u001b[36mcatch_format_error\u001b[39m\u001b[34m(method, self, *args, **kwargs)\u001b[39m\n\u001b[32m    280\u001b[39m \u001b[38;5;250m\u001b[39m\u001b[33;03m\"\"\"show traceback on failed format call\"\"\"\u001b[39;00m\n\u001b[32m    281\u001b[39m \u001b[38;5;28;01mtry\u001b[39;00m:\n\u001b[32m--> \u001b[39m\u001b[32m282\u001b[39m     r = \u001b[43mmethod\u001b[49m\u001b[43m(\u001b[49m\u001b[38;5;28;43mself\u001b[39;49m\u001b[43m,\u001b[49m\u001b[43m \u001b[49m\u001b[43m*\u001b[49m\u001b[43margs\u001b[49m\u001b[43m,\u001b[49m\u001b[43m \u001b[49m\u001b[43m*\u001b[49m\u001b[43m*\u001b[49m\u001b[43mkwargs\u001b[49m\u001b[43m)\u001b[49m\n\u001b[32m    283\u001b[39m \u001b[38;5;28;01mexcept\u001b[39;00m \u001b[38;5;167;01mNotImplementedError\u001b[39;00m:\n\u001b[32m    284\u001b[39m     \u001b[38;5;66;03m# don't warn on NotImplementedErrors\u001b[39;00m\n\u001b[32m    285\u001b[39m     \u001b[38;5;28;01mreturn\u001b[39;00m \u001b[38;5;28mself\u001b[39m._check_return(\u001b[38;5;28;01mNone\u001b[39;00m, args[\u001b[32m0\u001b[39m])\n",
      "\u001b[36mFile \u001b[39m\u001b[32m/opt/homebrew/Caskroom/miniconda/base/envs/a1/lib/python3.11/site-packages/IPython/core/formatters.py:402\u001b[39m, in \u001b[36mBaseFormatter.__call__\u001b[39m\u001b[34m(self, obj)\u001b[39m\n\u001b[32m    400\u001b[39m     \u001b[38;5;28;01mpass\u001b[39;00m\n\u001b[32m    401\u001b[39m \u001b[38;5;28;01melse\u001b[39;00m:\n\u001b[32m--> \u001b[39m\u001b[32m402\u001b[39m     \u001b[38;5;28;01mreturn\u001b[39;00m \u001b[43mprinter\u001b[49m\u001b[43m(\u001b[49m\u001b[43mobj\u001b[49m\u001b[43m)\u001b[49m\n\u001b[32m    403\u001b[39m \u001b[38;5;66;03m# Finally look for special method names\u001b[39;00m\n\u001b[32m    404\u001b[39m method = get_real_method(obj, \u001b[38;5;28mself\u001b[39m.print_method)\n",
      "\u001b[36mFile \u001b[39m\u001b[32m/opt/homebrew/Caskroom/miniconda/base/envs/a1/lib/python3.11/site-packages/IPython/core/pylabtools.py:170\u001b[39m, in \u001b[36mprint_figure\u001b[39m\u001b[34m(fig, fmt, bbox_inches, base64, **kwargs)\u001b[39m\n\u001b[32m    167\u001b[39m     \u001b[38;5;28;01mfrom\u001b[39;00m\u001b[38;5;250m \u001b[39m\u001b[34;01mmatplotlib\u001b[39;00m\u001b[34;01m.\u001b[39;00m\u001b[34;01mbackend_bases\u001b[39;00m\u001b[38;5;250m \u001b[39m\u001b[38;5;28;01mimport\u001b[39;00m FigureCanvasBase\n\u001b[32m    168\u001b[39m     FigureCanvasBase(fig)\n\u001b[32m--> \u001b[39m\u001b[32m170\u001b[39m \u001b[43mfig\u001b[49m\u001b[43m.\u001b[49m\u001b[43mcanvas\u001b[49m\u001b[43m.\u001b[49m\u001b[43mprint_figure\u001b[49m\u001b[43m(\u001b[49m\u001b[43mbytes_io\u001b[49m\u001b[43m,\u001b[49m\u001b[43m \u001b[49m\u001b[43m*\u001b[49m\u001b[43m*\u001b[49m\u001b[43mkw\u001b[49m\u001b[43m)\u001b[49m\n\u001b[32m    171\u001b[39m data = bytes_io.getvalue()\n\u001b[32m    172\u001b[39m \u001b[38;5;28;01mif\u001b[39;00m fmt == \u001b[33m'\u001b[39m\u001b[33msvg\u001b[39m\u001b[33m'\u001b[39m:\n",
      "\u001b[36mFile \u001b[39m\u001b[32m/opt/homebrew/Caskroom/miniconda/base/envs/a1/lib/python3.11/site-packages/matplotlib/backend_bases.py:2187\u001b[39m, in \u001b[36mFigureCanvasBase.print_figure\u001b[39m\u001b[34m(self, filename, dpi, facecolor, edgecolor, orientation, format, bbox_inches, pad_inches, bbox_extra_artists, backend, **kwargs)\u001b[39m\n\u001b[32m   2183\u001b[39m \u001b[38;5;28;01mtry\u001b[39;00m:\n\u001b[32m   2184\u001b[39m     \u001b[38;5;66;03m# _get_renderer may change the figure dpi (as vector formats\u001b[39;00m\n\u001b[32m   2185\u001b[39m     \u001b[38;5;66;03m# force the figure dpi to 72), so we need to set it again here.\u001b[39;00m\n\u001b[32m   2186\u001b[39m     \u001b[38;5;28;01mwith\u001b[39;00m cbook._setattr_cm(\u001b[38;5;28mself\u001b[39m.figure, dpi=dpi):\n\u001b[32m-> \u001b[39m\u001b[32m2187\u001b[39m         result = \u001b[43mprint_method\u001b[49m\u001b[43m(\u001b[49m\n\u001b[32m   2188\u001b[39m \u001b[43m            \u001b[49m\u001b[43mfilename\u001b[49m\u001b[43m,\u001b[49m\n\u001b[32m   2189\u001b[39m \u001b[43m            \u001b[49m\u001b[43mfacecolor\u001b[49m\u001b[43m=\u001b[49m\u001b[43mfacecolor\u001b[49m\u001b[43m,\u001b[49m\n\u001b[32m   2190\u001b[39m \u001b[43m            \u001b[49m\u001b[43medgecolor\u001b[49m\u001b[43m=\u001b[49m\u001b[43medgecolor\u001b[49m\u001b[43m,\u001b[49m\n\u001b[32m   2191\u001b[39m \u001b[43m            \u001b[49m\u001b[43morientation\u001b[49m\u001b[43m=\u001b[49m\u001b[43morientation\u001b[49m\u001b[43m,\u001b[49m\n\u001b[32m   2192\u001b[39m \u001b[43m            \u001b[49m\u001b[43mbbox_inches_restore\u001b[49m\u001b[43m=\u001b[49m\u001b[43m_bbox_inches_restore\u001b[49m\u001b[43m,\u001b[49m\n\u001b[32m   2193\u001b[39m \u001b[43m            \u001b[49m\u001b[43m*\u001b[49m\u001b[43m*\u001b[49m\u001b[43mkwargs\u001b[49m\u001b[43m)\u001b[49m\n\u001b[32m   2194\u001b[39m \u001b[38;5;28;01mfinally\u001b[39;00m:\n\u001b[32m   2195\u001b[39m     \u001b[38;5;28;01mif\u001b[39;00m bbox_inches \u001b[38;5;129;01mand\u001b[39;00m restore_bbox:\n",
      "\u001b[36mFile \u001b[39m\u001b[32m/opt/homebrew/Caskroom/miniconda/base/envs/a1/lib/python3.11/site-packages/matplotlib/backend_bases.py:2043\u001b[39m, in \u001b[36mFigureCanvasBase._switch_canvas_and_return_print_method.<locals>.<lambda>\u001b[39m\u001b[34m(*args, **kwargs)\u001b[39m\n\u001b[32m   2039\u001b[39m     optional_kws = {  \u001b[38;5;66;03m# Passed by print_figure for other renderers.\u001b[39;00m\n\u001b[32m   2040\u001b[39m         \u001b[33m\"\u001b[39m\u001b[33mdpi\u001b[39m\u001b[33m\"\u001b[39m, \u001b[33m\"\u001b[39m\u001b[33mfacecolor\u001b[39m\u001b[33m\"\u001b[39m, \u001b[33m\"\u001b[39m\u001b[33medgecolor\u001b[39m\u001b[33m\"\u001b[39m, \u001b[33m\"\u001b[39m\u001b[33morientation\u001b[39m\u001b[33m\"\u001b[39m,\n\u001b[32m   2041\u001b[39m         \u001b[33m\"\u001b[39m\u001b[33mbbox_inches_restore\u001b[39m\u001b[33m\"\u001b[39m}\n\u001b[32m   2042\u001b[39m     skip = optional_kws - {*inspect.signature(meth).parameters}\n\u001b[32m-> \u001b[39m\u001b[32m2043\u001b[39m     print_method = functools.wraps(meth)(\u001b[38;5;28;01mlambda\u001b[39;00m *args, **kwargs: \u001b[43mmeth\u001b[49m\u001b[43m(\u001b[49m\n\u001b[32m   2044\u001b[39m \u001b[43m        \u001b[49m\u001b[43m*\u001b[49m\u001b[43margs\u001b[49m\u001b[43m,\u001b[49m\u001b[43m \u001b[49m\u001b[43m*\u001b[49m\u001b[43m*\u001b[49m\u001b[43m{\u001b[49m\u001b[43mk\u001b[49m\u001b[43m:\u001b[49m\u001b[43m \u001b[49m\u001b[43mv\u001b[49m\u001b[43m \u001b[49m\u001b[38;5;28;43;01mfor\u001b[39;49;00m\u001b[43m \u001b[49m\u001b[43mk\u001b[49m\u001b[43m,\u001b[49m\u001b[43m \u001b[49m\u001b[43mv\u001b[49m\u001b[43m \u001b[49m\u001b[38;5;129;43;01min\u001b[39;49;00m\u001b[43m \u001b[49m\u001b[43mkwargs\u001b[49m\u001b[43m.\u001b[49m\u001b[43mitems\u001b[49m\u001b[43m(\u001b[49m\u001b[43m)\u001b[49m\u001b[43m \u001b[49m\u001b[38;5;28;43;01mif\u001b[39;49;00m\u001b[43m \u001b[49m\u001b[43mk\u001b[49m\u001b[43m \u001b[49m\u001b[38;5;129;43;01mnot\u001b[39;49;00m\u001b[43m \u001b[49m\u001b[38;5;129;43;01min\u001b[39;49;00m\u001b[43m \u001b[49m\u001b[43mskip\u001b[49m\u001b[43m}\u001b[49m\u001b[43m)\u001b[49m)\n\u001b[32m   2045\u001b[39m \u001b[38;5;28;01melse\u001b[39;00m:  \u001b[38;5;66;03m# Let third-parties do as they see fit.\u001b[39;00m\n\u001b[32m   2046\u001b[39m     print_method = meth\n",
      "\u001b[36mFile \u001b[39m\u001b[32m/opt/homebrew/Caskroom/miniconda/base/envs/a1/lib/python3.11/site-packages/matplotlib/backends/backend_agg.py:497\u001b[39m, in \u001b[36mFigureCanvasAgg.print_png\u001b[39m\u001b[34m(self, filename_or_obj, metadata, pil_kwargs)\u001b[39m\n\u001b[32m    450\u001b[39m \u001b[38;5;28;01mdef\u001b[39;00m\u001b[38;5;250m \u001b[39m\u001b[34mprint_png\u001b[39m(\u001b[38;5;28mself\u001b[39m, filename_or_obj, *, metadata=\u001b[38;5;28;01mNone\u001b[39;00m, pil_kwargs=\u001b[38;5;28;01mNone\u001b[39;00m):\n\u001b[32m    451\u001b[39m \u001b[38;5;250m    \u001b[39m\u001b[33;03m\"\"\"\u001b[39;00m\n\u001b[32m    452\u001b[39m \u001b[33;03m    Write the figure to a PNG file.\u001b[39;00m\n\u001b[32m    453\u001b[39m \n\u001b[32m   (...)\u001b[39m\u001b[32m    495\u001b[39m \u001b[33;03m        *metadata*, including the default 'Software' key.\u001b[39;00m\n\u001b[32m    496\u001b[39m \u001b[33;03m    \"\"\"\u001b[39;00m\n\u001b[32m--> \u001b[39m\u001b[32m497\u001b[39m     \u001b[38;5;28;43mself\u001b[39;49m\u001b[43m.\u001b[49m\u001b[43m_print_pil\u001b[49m\u001b[43m(\u001b[49m\u001b[43mfilename_or_obj\u001b[49m\u001b[43m,\u001b[49m\u001b[43m \u001b[49m\u001b[33;43m\"\u001b[39;49m\u001b[33;43mpng\u001b[39;49m\u001b[33;43m\"\u001b[39;49m\u001b[43m,\u001b[49m\u001b[43m \u001b[49m\u001b[43mpil_kwargs\u001b[49m\u001b[43m,\u001b[49m\u001b[43m \u001b[49m\u001b[43mmetadata\u001b[49m\u001b[43m)\u001b[49m\n",
      "\u001b[36mFile \u001b[39m\u001b[32m/opt/homebrew/Caskroom/miniconda/base/envs/a1/lib/python3.11/site-packages/matplotlib/backends/backend_agg.py:445\u001b[39m, in \u001b[36mFigureCanvasAgg._print_pil\u001b[39m\u001b[34m(self, filename_or_obj, fmt, pil_kwargs, metadata)\u001b[39m\n\u001b[32m    440\u001b[39m \u001b[38;5;28;01mdef\u001b[39;00m\u001b[38;5;250m \u001b[39m\u001b[34m_print_pil\u001b[39m(\u001b[38;5;28mself\u001b[39m, filename_or_obj, fmt, pil_kwargs, metadata=\u001b[38;5;28;01mNone\u001b[39;00m):\n\u001b[32m    441\u001b[39m \u001b[38;5;250m    \u001b[39m\u001b[33;03m\"\"\"\u001b[39;00m\n\u001b[32m    442\u001b[39m \u001b[33;03m    Draw the canvas, then save it using `.image.imsave` (to which\u001b[39;00m\n\u001b[32m    443\u001b[39m \u001b[33;03m    *pil_kwargs* and *metadata* are forwarded).\u001b[39;00m\n\u001b[32m    444\u001b[39m \u001b[33;03m    \"\"\"\u001b[39;00m\n\u001b[32m--> \u001b[39m\u001b[32m445\u001b[39m     \u001b[43mFigureCanvasAgg\u001b[49m\u001b[43m.\u001b[49m\u001b[43mdraw\u001b[49m\u001b[43m(\u001b[49m\u001b[38;5;28;43mself\u001b[39;49m\u001b[43m)\u001b[49m\n\u001b[32m    446\u001b[39m     mpl.image.imsave(\n\u001b[32m    447\u001b[39m         filename_or_obj, \u001b[38;5;28mself\u001b[39m.buffer_rgba(), \u001b[38;5;28mformat\u001b[39m=fmt, origin=\u001b[33m\"\u001b[39m\u001b[33mupper\u001b[39m\u001b[33m\"\u001b[39m,\n\u001b[32m    448\u001b[39m         dpi=\u001b[38;5;28mself\u001b[39m.figure.dpi, metadata=metadata, pil_kwargs=pil_kwargs)\n",
      "\u001b[36mFile \u001b[39m\u001b[32m/opt/homebrew/Caskroom/miniconda/base/envs/a1/lib/python3.11/site-packages/matplotlib/backends/backend_agg.py:388\u001b[39m, in \u001b[36mFigureCanvasAgg.draw\u001b[39m\u001b[34m(self)\u001b[39m\n\u001b[32m    385\u001b[39m \u001b[38;5;66;03m# Acquire a lock on the shared font cache.\u001b[39;00m\n\u001b[32m    386\u001b[39m \u001b[38;5;28;01mwith\u001b[39;00m (\u001b[38;5;28mself\u001b[39m.toolbar._wait_cursor_for_draw_cm() \u001b[38;5;28;01mif\u001b[39;00m \u001b[38;5;28mself\u001b[39m.toolbar\n\u001b[32m    387\u001b[39m       \u001b[38;5;28;01melse\u001b[39;00m nullcontext()):\n\u001b[32m--> \u001b[39m\u001b[32m388\u001b[39m     \u001b[38;5;28;43mself\u001b[39;49m\u001b[43m.\u001b[49m\u001b[43mfigure\u001b[49m\u001b[43m.\u001b[49m\u001b[43mdraw\u001b[49m\u001b[43m(\u001b[49m\u001b[38;5;28;43mself\u001b[39;49m\u001b[43m.\u001b[49m\u001b[43mrenderer\u001b[49m\u001b[43m)\u001b[49m\n\u001b[32m    389\u001b[39m     \u001b[38;5;66;03m# A GUI class may be need to update a window using this draw, so\u001b[39;00m\n\u001b[32m    390\u001b[39m     \u001b[38;5;66;03m# don't forget to call the superclass.\u001b[39;00m\n\u001b[32m    391\u001b[39m     \u001b[38;5;28msuper\u001b[39m().draw()\n",
      "\u001b[36mFile \u001b[39m\u001b[32m/opt/homebrew/Caskroom/miniconda/base/envs/a1/lib/python3.11/site-packages/matplotlib/artist.py:95\u001b[39m, in \u001b[36m_finalize_rasterization.<locals>.draw_wrapper\u001b[39m\u001b[34m(artist, renderer, *args, **kwargs)\u001b[39m\n\u001b[32m     93\u001b[39m \u001b[38;5;129m@wraps\u001b[39m(draw)\n\u001b[32m     94\u001b[39m \u001b[38;5;28;01mdef\u001b[39;00m\u001b[38;5;250m \u001b[39m\u001b[34mdraw_wrapper\u001b[39m(artist, renderer, *args, **kwargs):\n\u001b[32m---> \u001b[39m\u001b[32m95\u001b[39m     result = \u001b[43mdraw\u001b[49m\u001b[43m(\u001b[49m\u001b[43martist\u001b[49m\u001b[43m,\u001b[49m\u001b[43m \u001b[49m\u001b[43mrenderer\u001b[49m\u001b[43m,\u001b[49m\u001b[43m \u001b[49m\u001b[43m*\u001b[49m\u001b[43margs\u001b[49m\u001b[43m,\u001b[49m\u001b[43m \u001b[49m\u001b[43m*\u001b[49m\u001b[43m*\u001b[49m\u001b[43mkwargs\u001b[49m\u001b[43m)\u001b[49m\n\u001b[32m     96\u001b[39m     \u001b[38;5;28;01mif\u001b[39;00m renderer._rasterizing:\n\u001b[32m     97\u001b[39m         renderer.stop_rasterizing()\n",
      "\u001b[36mFile \u001b[39m\u001b[32m/opt/homebrew/Caskroom/miniconda/base/envs/a1/lib/python3.11/site-packages/matplotlib/artist.py:72\u001b[39m, in \u001b[36mallow_rasterization.<locals>.draw_wrapper\u001b[39m\u001b[34m(artist, renderer)\u001b[39m\n\u001b[32m     69\u001b[39m     \u001b[38;5;28;01mif\u001b[39;00m artist.get_agg_filter() \u001b[38;5;129;01mis\u001b[39;00m \u001b[38;5;129;01mnot\u001b[39;00m \u001b[38;5;28;01mNone\u001b[39;00m:\n\u001b[32m     70\u001b[39m         renderer.start_filter()\n\u001b[32m---> \u001b[39m\u001b[32m72\u001b[39m     \u001b[38;5;28;01mreturn\u001b[39;00m \u001b[43mdraw\u001b[49m\u001b[43m(\u001b[49m\u001b[43martist\u001b[49m\u001b[43m,\u001b[49m\u001b[43m \u001b[49m\u001b[43mrenderer\u001b[49m\u001b[43m)\u001b[49m\n\u001b[32m     73\u001b[39m \u001b[38;5;28;01mfinally\u001b[39;00m:\n\u001b[32m     74\u001b[39m     \u001b[38;5;28;01mif\u001b[39;00m artist.get_agg_filter() \u001b[38;5;129;01mis\u001b[39;00m \u001b[38;5;129;01mnot\u001b[39;00m \u001b[38;5;28;01mNone\u001b[39;00m:\n",
      "\u001b[36mFile \u001b[39m\u001b[32m/opt/homebrew/Caskroom/miniconda/base/envs/a1/lib/python3.11/site-packages/matplotlib/figure.py:3154\u001b[39m, in \u001b[36mFigure.draw\u001b[39m\u001b[34m(self, renderer)\u001b[39m\n\u001b[32m   3151\u001b[39m         \u001b[38;5;66;03m# ValueError can occur when resizing a window.\u001b[39;00m\n\u001b[32m   3153\u001b[39m \u001b[38;5;28mself\u001b[39m.patch.draw(renderer)\n\u001b[32m-> \u001b[39m\u001b[32m3154\u001b[39m \u001b[43mmimage\u001b[49m\u001b[43m.\u001b[49m\u001b[43m_draw_list_compositing_images\u001b[49m\u001b[43m(\u001b[49m\n\u001b[32m   3155\u001b[39m \u001b[43m    \u001b[49m\u001b[43mrenderer\u001b[49m\u001b[43m,\u001b[49m\u001b[43m \u001b[49m\u001b[38;5;28;43mself\u001b[39;49m\u001b[43m,\u001b[49m\u001b[43m \u001b[49m\u001b[43martists\u001b[49m\u001b[43m,\u001b[49m\u001b[43m \u001b[49m\u001b[38;5;28;43mself\u001b[39;49m\u001b[43m.\u001b[49m\u001b[43msuppressComposite\u001b[49m\u001b[43m)\u001b[49m\n\u001b[32m   3157\u001b[39m \u001b[38;5;28;01mfor\u001b[39;00m sfig \u001b[38;5;129;01min\u001b[39;00m \u001b[38;5;28mself\u001b[39m.subfigs:\n\u001b[32m   3158\u001b[39m     sfig.draw(renderer)\n",
      "\u001b[36mFile \u001b[39m\u001b[32m/opt/homebrew/Caskroom/miniconda/base/envs/a1/lib/python3.11/site-packages/matplotlib/image.py:132\u001b[39m, in \u001b[36m_draw_list_compositing_images\u001b[39m\u001b[34m(renderer, parent, artists, suppress_composite)\u001b[39m\n\u001b[32m    130\u001b[39m \u001b[38;5;28;01mif\u001b[39;00m not_composite \u001b[38;5;129;01mor\u001b[39;00m \u001b[38;5;129;01mnot\u001b[39;00m has_images:\n\u001b[32m    131\u001b[39m     \u001b[38;5;28;01mfor\u001b[39;00m a \u001b[38;5;129;01min\u001b[39;00m artists:\n\u001b[32m--> \u001b[39m\u001b[32m132\u001b[39m         \u001b[43ma\u001b[49m\u001b[43m.\u001b[49m\u001b[43mdraw\u001b[49m\u001b[43m(\u001b[49m\u001b[43mrenderer\u001b[49m\u001b[43m)\u001b[49m\n\u001b[32m    133\u001b[39m \u001b[38;5;28;01melse\u001b[39;00m:\n\u001b[32m    134\u001b[39m     \u001b[38;5;66;03m# Composite any adjacent images together\u001b[39;00m\n\u001b[32m    135\u001b[39m     image_group = []\n",
      "\u001b[36mFile \u001b[39m\u001b[32m/opt/homebrew/Caskroom/miniconda/base/envs/a1/lib/python3.11/site-packages/matplotlib/artist.py:72\u001b[39m, in \u001b[36mallow_rasterization.<locals>.draw_wrapper\u001b[39m\u001b[34m(artist, renderer)\u001b[39m\n\u001b[32m     69\u001b[39m     \u001b[38;5;28;01mif\u001b[39;00m artist.get_agg_filter() \u001b[38;5;129;01mis\u001b[39;00m \u001b[38;5;129;01mnot\u001b[39;00m \u001b[38;5;28;01mNone\u001b[39;00m:\n\u001b[32m     70\u001b[39m         renderer.start_filter()\n\u001b[32m---> \u001b[39m\u001b[32m72\u001b[39m     \u001b[38;5;28;01mreturn\u001b[39;00m \u001b[43mdraw\u001b[49m\u001b[43m(\u001b[49m\u001b[43martist\u001b[49m\u001b[43m,\u001b[49m\u001b[43m \u001b[49m\u001b[43mrenderer\u001b[49m\u001b[43m)\u001b[49m\n\u001b[32m     73\u001b[39m \u001b[38;5;28;01mfinally\u001b[39;00m:\n\u001b[32m     74\u001b[39m     \u001b[38;5;28;01mif\u001b[39;00m artist.get_agg_filter() \u001b[38;5;129;01mis\u001b[39;00m \u001b[38;5;129;01mnot\u001b[39;00m \u001b[38;5;28;01mNone\u001b[39;00m:\n",
      "\u001b[36mFile \u001b[39m\u001b[32m/opt/homebrew/Caskroom/miniconda/base/envs/a1/lib/python3.11/site-packages/matplotlib/axes/_base.py:3070\u001b[39m, in \u001b[36m_AxesBase.draw\u001b[39m\u001b[34m(self, renderer)\u001b[39m\n\u001b[32m   3067\u001b[39m \u001b[38;5;28;01mif\u001b[39;00m artists_rasterized:\n\u001b[32m   3068\u001b[39m     _draw_rasterized(\u001b[38;5;28mself\u001b[39m.figure, artists_rasterized, renderer)\n\u001b[32m-> \u001b[39m\u001b[32m3070\u001b[39m \u001b[43mmimage\u001b[49m\u001b[43m.\u001b[49m\u001b[43m_draw_list_compositing_images\u001b[49m\u001b[43m(\u001b[49m\n\u001b[32m   3071\u001b[39m \u001b[43m    \u001b[49m\u001b[43mrenderer\u001b[49m\u001b[43m,\u001b[49m\u001b[43m \u001b[49m\u001b[38;5;28;43mself\u001b[39;49m\u001b[43m,\u001b[49m\u001b[43m \u001b[49m\u001b[43martists\u001b[49m\u001b[43m,\u001b[49m\u001b[43m \u001b[49m\u001b[38;5;28;43mself\u001b[39;49m\u001b[43m.\u001b[49m\u001b[43mfigure\u001b[49m\u001b[43m.\u001b[49m\u001b[43msuppressComposite\u001b[49m\u001b[43m)\u001b[49m\n\u001b[32m   3073\u001b[39m renderer.close_group(\u001b[33m'\u001b[39m\u001b[33maxes\u001b[39m\u001b[33m'\u001b[39m)\n\u001b[32m   3074\u001b[39m \u001b[38;5;28mself\u001b[39m.stale = \u001b[38;5;28;01mFalse\u001b[39;00m\n",
      "\u001b[36mFile \u001b[39m\u001b[32m/opt/homebrew/Caskroom/miniconda/base/envs/a1/lib/python3.11/site-packages/matplotlib/image.py:132\u001b[39m, in \u001b[36m_draw_list_compositing_images\u001b[39m\u001b[34m(renderer, parent, artists, suppress_composite)\u001b[39m\n\u001b[32m    130\u001b[39m \u001b[38;5;28;01mif\u001b[39;00m not_composite \u001b[38;5;129;01mor\u001b[39;00m \u001b[38;5;129;01mnot\u001b[39;00m has_images:\n\u001b[32m    131\u001b[39m     \u001b[38;5;28;01mfor\u001b[39;00m a \u001b[38;5;129;01min\u001b[39;00m artists:\n\u001b[32m--> \u001b[39m\u001b[32m132\u001b[39m         \u001b[43ma\u001b[49m\u001b[43m.\u001b[49m\u001b[43mdraw\u001b[49m\u001b[43m(\u001b[49m\u001b[43mrenderer\u001b[49m\u001b[43m)\u001b[49m\n\u001b[32m    133\u001b[39m \u001b[38;5;28;01melse\u001b[39;00m:\n\u001b[32m    134\u001b[39m     \u001b[38;5;66;03m# Composite any adjacent images together\u001b[39;00m\n\u001b[32m    135\u001b[39m     image_group = []\n",
      "\u001b[36mFile \u001b[39m\u001b[32m/opt/homebrew/Caskroom/miniconda/base/envs/a1/lib/python3.11/site-packages/matplotlib/artist.py:72\u001b[39m, in \u001b[36mallow_rasterization.<locals>.draw_wrapper\u001b[39m\u001b[34m(artist, renderer)\u001b[39m\n\u001b[32m     69\u001b[39m     \u001b[38;5;28;01mif\u001b[39;00m artist.get_agg_filter() \u001b[38;5;129;01mis\u001b[39;00m \u001b[38;5;129;01mnot\u001b[39;00m \u001b[38;5;28;01mNone\u001b[39;00m:\n\u001b[32m     70\u001b[39m         renderer.start_filter()\n\u001b[32m---> \u001b[39m\u001b[32m72\u001b[39m     \u001b[38;5;28;01mreturn\u001b[39;00m \u001b[43mdraw\u001b[49m\u001b[43m(\u001b[49m\u001b[43martist\u001b[49m\u001b[43m,\u001b[49m\u001b[43m \u001b[49m\u001b[43mrenderer\u001b[49m\u001b[43m)\u001b[49m\n\u001b[32m     73\u001b[39m \u001b[38;5;28;01mfinally\u001b[39;00m:\n\u001b[32m     74\u001b[39m     \u001b[38;5;28;01mif\u001b[39;00m artist.get_agg_filter() \u001b[38;5;129;01mis\u001b[39;00m \u001b[38;5;129;01mnot\u001b[39;00m \u001b[38;5;28;01mNone\u001b[39;00m:\n",
      "\u001b[36mFile \u001b[39m\u001b[32m/opt/homebrew/Caskroom/miniconda/base/envs/a1/lib/python3.11/site-packages/matplotlib/image.py:649\u001b[39m, in \u001b[36m_ImageBase.draw\u001b[39m\u001b[34m(self, renderer, *args, **kwargs)\u001b[39m\n\u001b[32m    647\u001b[39m         renderer.draw_image(gc, l, b, im, trans)\n\u001b[32m    648\u001b[39m \u001b[38;5;28;01melse\u001b[39;00m:\n\u001b[32m--> \u001b[39m\u001b[32m649\u001b[39m     im, l, b, trans = \u001b[38;5;28;43mself\u001b[39;49m\u001b[43m.\u001b[49m\u001b[43mmake_image\u001b[49m\u001b[43m(\u001b[49m\n\u001b[32m    650\u001b[39m \u001b[43m        \u001b[49m\u001b[43mrenderer\u001b[49m\u001b[43m,\u001b[49m\u001b[43m \u001b[49m\u001b[43mrenderer\u001b[49m\u001b[43m.\u001b[49m\u001b[43mget_image_magnification\u001b[49m\u001b[43m(\u001b[49m\u001b[43m)\u001b[49m\u001b[43m)\u001b[49m\n\u001b[32m    651\u001b[39m     \u001b[38;5;28;01mif\u001b[39;00m im \u001b[38;5;129;01mis\u001b[39;00m \u001b[38;5;129;01mnot\u001b[39;00m \u001b[38;5;28;01mNone\u001b[39;00m:\n\u001b[32m    652\u001b[39m         renderer.draw_image(gc, l, b, im)\n",
      "\u001b[36mFile \u001b[39m\u001b[32m/opt/homebrew/Caskroom/miniconda/base/envs/a1/lib/python3.11/site-packages/matplotlib/image.py:939\u001b[39m, in \u001b[36mAxesImage.make_image\u001b[39m\u001b[34m(self, renderer, magnification, unsampled)\u001b[39m\n\u001b[32m    936\u001b[39m transformed_bbox = TransformedBbox(bbox, trans)\n\u001b[32m    937\u001b[39m clip = ((\u001b[38;5;28mself\u001b[39m.get_clip_box() \u001b[38;5;129;01mor\u001b[39;00m \u001b[38;5;28mself\u001b[39m.axes.bbox) \u001b[38;5;28;01mif\u001b[39;00m \u001b[38;5;28mself\u001b[39m.get_clip_on()\n\u001b[32m    938\u001b[39m         \u001b[38;5;28;01melse\u001b[39;00m \u001b[38;5;28mself\u001b[39m.figure.bbox)\n\u001b[32m--> \u001b[39m\u001b[32m939\u001b[39m \u001b[38;5;28;01mreturn\u001b[39;00m \u001b[38;5;28;43mself\u001b[39;49m\u001b[43m.\u001b[49m\u001b[43m_make_image\u001b[49m\u001b[43m(\u001b[49m\u001b[38;5;28;43mself\u001b[39;49m\u001b[43m.\u001b[49m\u001b[43m_A\u001b[49m\u001b[43m,\u001b[49m\u001b[43m \u001b[49m\u001b[43mbbox\u001b[49m\u001b[43m,\u001b[49m\u001b[43m \u001b[49m\u001b[43mtransformed_bbox\u001b[49m\u001b[43m,\u001b[49m\u001b[43m \u001b[49m\u001b[43mclip\u001b[49m\u001b[43m,\u001b[49m\n\u001b[32m    940\u001b[39m \u001b[43m                        \u001b[49m\u001b[43mmagnification\u001b[49m\u001b[43m,\u001b[49m\u001b[43m \u001b[49m\u001b[43munsampled\u001b[49m\u001b[43m=\u001b[49m\u001b[43munsampled\u001b[49m\u001b[43m)\u001b[49m\n",
      "\u001b[36mFile \u001b[39m\u001b[32m/opt/homebrew/Caskroom/miniconda/base/envs/a1/lib/python3.11/site-packages/matplotlib/image.py:560\u001b[39m, in \u001b[36m_ImageBase._make_image\u001b[39m\u001b[34m(self, A, in_bbox, out_bbox, clip_bbox, magnification, unsampled, round_to_pixel_border)\u001b[39m\n\u001b[32m    558\u001b[39m \u001b[38;5;28;01mif\u001b[39;00m A.shape[\u001b[32m2\u001b[39m] == \u001b[32m3\u001b[39m:\n\u001b[32m    559\u001b[39m     A = _rgb_to_rgba(A)\n\u001b[32m--> \u001b[39m\u001b[32m560\u001b[39m alpha = \u001b[38;5;28;43mself\u001b[39;49m\u001b[43m.\u001b[49m\u001b[43m_get_scalar_alpha\u001b[49m\u001b[43m(\u001b[49m\u001b[43m)\u001b[49m\n\u001b[32m    561\u001b[39m output_alpha = _resample(  \u001b[38;5;66;03m# resample alpha channel\u001b[39;00m\n\u001b[32m    562\u001b[39m     \u001b[38;5;28mself\u001b[39m, A[..., \u001b[32m3\u001b[39m], out_shape, t, alpha=alpha)\n\u001b[32m    563\u001b[39m output = _resample(  \u001b[38;5;66;03m# resample rgb channels\u001b[39;00m\n\u001b[32m    564\u001b[39m     \u001b[38;5;28mself\u001b[39m, _rgb_to_rgba(A[..., :\u001b[32m3\u001b[39m]), out_shape, t, alpha=alpha)\n",
      "\u001b[36mFile \u001b[39m\u001b[32m/opt/homebrew/Caskroom/miniconda/base/envs/a1/lib/python3.11/site-packages/matplotlib/image.py:315\u001b[39m, in \u001b[36m_ImageBase._get_scalar_alpha\u001b[39m\u001b[34m(self)\u001b[39m\n\u001b[32m    311\u001b[39m         \u001b[38;5;28;01mraise\u001b[39;00m \u001b[38;5;167;01mTypeError\u001b[39;00m(\u001b[33m'\u001b[39m\u001b[33malpha must be a float, two-dimensional \u001b[39m\u001b[33m'\u001b[39m\n\u001b[32m    312\u001b[39m                         \u001b[33m'\u001b[39m\u001b[33marray, or None\u001b[39m\u001b[33m'\u001b[39m)\n\u001b[32m    313\u001b[39m     \u001b[38;5;28mself\u001b[39m._imcache = \u001b[38;5;28;01mNone\u001b[39;00m\n\u001b[32m--> \u001b[39m\u001b[32m315\u001b[39m \u001b[38;5;28;01mdef\u001b[39;00m\u001b[38;5;250m \u001b[39m\u001b[34m_get_scalar_alpha\u001b[39m(\u001b[38;5;28mself\u001b[39m):\n\u001b[32m    316\u001b[39m \u001b[38;5;250m    \u001b[39m\u001b[33;03m\"\"\"\u001b[39;00m\n\u001b[32m    317\u001b[39m \u001b[33;03m    Get a scalar alpha value to be applied to the artist as a whole.\u001b[39;00m\n\u001b[32m    318\u001b[39m \n\u001b[32m   (...)\u001b[39m\u001b[32m    323\u001b[39m \u001b[33;03m    individual alpha values.\u001b[39;00m\n\u001b[32m    324\u001b[39m \u001b[33;03m    \"\"\"\u001b[39;00m\n\u001b[32m    325\u001b[39m     \u001b[38;5;28;01mreturn\u001b[39;00m \u001b[32m1.0\u001b[39m \u001b[38;5;28;01mif\u001b[39;00m \u001b[38;5;28mself\u001b[39m._alpha \u001b[38;5;129;01mis\u001b[39;00m \u001b[38;5;28;01mNone\u001b[39;00m \u001b[38;5;129;01mor\u001b[39;00m np.ndim(\u001b[38;5;28mself\u001b[39m._alpha) > \u001b[32m0\u001b[39m \\\n\u001b[32m    326\u001b[39m         \u001b[38;5;28;01melse\u001b[39;00m \u001b[38;5;28mself\u001b[39m._alpha\n",
      "\u001b[31mKeyboardInterrupt\u001b[39m: "
     ]
    },
    {
     "data": {
      "image/png": "[encoded data removed]",
      "text/plain": [
       "<Figure size 640x480 with 1 Axes>"
      ]
     },
     "metadata": {},
     "output_type": "display_data"
    }
   ],
   "source": [
    "import time\n",
    "from IPython import display\n",
    "import matplotlib.pyplot as plt\n",
    "plt.ion()\n",
    "\n",
    "env = gym.make('MountainCar-v0', render_mode=\"rgb_array\")\n",
    "obs, info = env.reset()\n",
    "num_steps = 2000\n",
    "\n",
    "\n",
    "plt.figure()\n",
    "\n",
    "for step in range(num_steps):\n",
    "    # Render the env here (Rendering might take longer for the cell to execute. \n",
    "    # Stop execution once you get a sense of what's happening and move on to the next part of the lab).\n",
    "    plt.imshow(env.render())\n",
    "    display.display(plt.gcf())\n",
    "    display.clear_output(wait=True) \n",
    "    \n",
    "    # take random action (based on examples above)\n",
    "    action = env.action_space.sample()\n",
    "    \n",
    "    # apply the action using env.step here\n",
    "    obs, reward, terminated, truncated, info = env.step(action)\n",
    "    \n",
    "    # If the episode is finished (i.e., terminated or truncated), then reset the env and start another one;\n",
    "    if terminated or truncated:\n",
    "        obs, info = env.reset()\n",
    "        break\n",
    "\n",
    "# Close the env\n",
    "env.close()"
   ]
  },
  {
   "cell_type": "markdown",
   "id": "8741d2e0-62c9-4884-92ea-c7eec4d23900",
   "metadata": {},
   "source": [
    "## Part 2\n",
    "\n",
    "Now that we have seen how to use gymnasium using its default environment, let's see how can we build a custom environment and perform actions in it. This particular custom environment is built using the gymnasium extension for Markov Decision Processes."
   ]
  },
  {
   "cell_type": "markdown",
   "id": "b744f4c8-a757-45a1-9e64-627d1d88a589",
   "metadata": {},
   "source": [
    "Let's consider a 3x3 grid where the action space is to move up, down, left, or right. An action that takes you out of the grid is considered invalid. The red cells in the grid represent a reward of -20, the yellow cell has a reward of +5 and the green one has a reward of +10. Consider the green cell as the final goal state, which is where we want our agent to go. There is an equal probability of taking any valid action from a given cell. \n",
    "\n",
    "Here's how the grid is defined **(on a Euclidean plane)**:\n",
    "\n",
    "Cell 0 - 0,0 (start)\\\n",
    "Cell 1 - 0,1\\\n",
    "Cell 2 - 0,2\\\n",
    "Cell 3 - 1,0\\\n",
    "Cell 4 - 1,1\\\n",
    "Cell 5 - 1,2\\\n",
    "Cell 6 - 2,0 (goal)\\\n",
    "Cell 7 - 2,1\\\n",
    "Cell 8 - 2,2\n",
    "\n",
    "<div><img src=\"./grid.png\", style=\"width:400px\"/></div>"
   ]
  },
  {
   "cell_type": "code",
   "execution_count": 14,
   "id": "df2e21d5-cf0c-48ca-a5ec-5b1be49ed96f",
   "metadata": {},
   "outputs": [
    {
     "name": "stdout",
     "output_type": "stream",
     "text": [
      "Collecting matrix-mdp-gym\n",
      "  Downloading matrix_mdp_gym-1.1.1-py3-none-any.whl.metadata (3.6 kB)\n",
      "Requirement already satisfied: gymnasium>=0.26.2 in /opt/homebrew/Caskroom/miniconda/base/envs/a1/lib/python3.11/site-packages (from matrix-mdp-gym) (0.29.1)\n",
      "Requirement already satisfied: numpy>=1.19.5 in /opt/homebrew/Caskroom/miniconda/base/envs/a1/lib/python3.11/site-packages (from matrix-mdp-gym) (1.24.3)\n",
      "Requirement already satisfied: cloudpickle>=1.2.0 in /opt/homebrew/Caskroom/miniconda/base/envs/a1/lib/python3.11/site-packages (from gymnasium>=0.26.2->matrix-mdp-gym) (3.1.1)\n",
      "Requirement already satisfied: typing-extensions>=4.3.0 in /opt/homebrew/Caskroom/miniconda/base/envs/a1/lib/python3.11/site-packages (from gymnasium>=0.26.2->matrix-mdp-gym) (4.13.2)\n",
      "Requirement already satisfied: farama-notifications>=0.0.1 in /opt/homebrew/Caskroom/miniconda/base/envs/a1/lib/python3.11/site-packages (from gymnasium>=0.26.2->matrix-mdp-gym) (0.0.4)\n",
      "Downloading matrix_mdp_gym-1.1.1-py3-none-any.whl (6.0 kB)\n",
      "Installing collected packages: matrix-mdp-gym\n",
      "Successfully installed matrix-mdp-gym-1.1.1\n"
     ]
    }
   ],
   "source": [
    "!pip install matrix-mdp-gym"
   ]
  },
  {
   "cell_type": "code",
   "execution_count": 15,
   "id": "be1e5434-274a-4e43-8424-a8543f97b420",
   "metadata": {},
   "outputs": [],
   "source": [
    "import numpy as np\n",
    "\n",
    "num_states = 9 # total number of cells\n",
    "num_actions = 4 # up, down, left, right\n",
    "num_terminal_states = 1 # initilaise the number of terminal goal states"
   ]
  },
  {
   "cell_type": "code",
   "execution_count": 16,
   "id": "5758daba-44c3-4f45-b859-7f5958185ee1",
   "metadata": {},
   "outputs": [],
   "source": [
    "#To-do:\n",
    "# Initialise the action map as a dictionary, just to save human readable labels. 0 maps to 'up', 1 to 'down', 2 to 'left', and 3 to 'right'.\n",
    "A = {\n",
    "    0: \"up\",\n",
    "    1: \"down\",\n",
    "    2: \"left\",\n",
    "    3: \"right\"\n",
    "}\n"
   ]
  },
  {
   "cell_type": "code",
   "execution_count": 17,
   "id": "5fe8bc81-5b56-498d-bea9-41891a5f5674",
   "metadata": {},
   "outputs": [],
   "source": [
    "# To-do: fill in and complete the state_action_map here, this is a map of all the valid actions from a given state. \n",
    "# Values for cell 0 and 6 are filled in for you\n",
    "# (from cell 0 we can go to the cell above it, or the cell to its right. \n",
    "# The action map values, therefore, are 0 and 3. For cell 6, since this state is terminal, there are no actions from it.\n",
    "\n",
    "# While we are hardcoding this for now, you should consider writing code \n",
    "# that generates this map using the rules of your environment in general.\n",
    "\n",
    "states_actions_map = {\n",
    "    0: [1, 3],    \n",
    "    1: [1, 2, 3], \n",
    "    2: [1, 2],   \n",
    "    3: [0, 1, 3], \n",
    "    4: [0, 1, 2, 3], \n",
    "    5: [0, 1, 2],\n",
    "    6: [],        \n",
    "    7: [0, 2, 3], \n",
    "    8: [0, 2],  \n",
    "}"
   ]
  },
  {
   "cell_type": "code",
   "execution_count": 18,
   "id": "3a1f95d0-b87f-4737-b64f-29ada8813b84",
   "metadata": {},
   "outputs": [],
   "source": [
    "# 1. Initialize transition and reward matrices.\n",
    "\n",
    "T = np.zeros((num_states, num_states, num_actions))\n",
    "R = np.zeros((num_states, num_states, num_actions))\n",
    "\n",
    "# 2. Fill in the transition matrix with the correct values.\n",
    "\n",
    "    # The matrix T represents transition probabilities, i.e., the probability of moving to state j from state i using action a. \n",
    "    # In uncertain environments, an action may have a small probability of failing and leading you to a different state than intended.\n",
    "    # For now, assume that the probability of failure is 0, i.e., an up action, for instance, \n",
    "    # will always take you to the cell above your current state, as long as such a cell exists. \n",
    "\n",
    "    # Note that T is a 3-dimensional matrix. Entries should be made at the index [new_state][current_state][action].\n",
    "    # For example, T[1][0][3] = 1 means that if we take action 3 (right) from cell 0 (start), the probability of reaching the cell 1 is 1.\n",
    "    # Use numpy operations to fill in the correct values in the matrix T.\n",
    "\n",
    "# Coordinate helpers\n",
    "def state_to_coords(state):\n",
    "    return divmod(state, 3)  # returns (row, col)\n",
    "\n",
    "def coords_to_state(row, col):\n",
    "    return row * 3 + col\n",
    "\n",
    "# Reward layout\n",
    "red_cells = [2, 5]\n",
    "yellow_cell = 7\n",
    "green_cell = 6  # terminal\n",
    "    \n",
    "\n",
    "\n",
    "# 3. Fill in the reward matrix with the correct values.\n",
    "\n",
    "    # The matrix R represents the rewards obtained by moving to state j from state i using action a. \n",
    "    # The red cells in the grid have a reward of -20, the yellow cell has a reward of +5, and the green one has a reward of +10.\n",
    "    # Assume rewards don't depend on the action used or the cell from which the agent moved to one of these cells for now.\n",
    "\n",
    "    # Entries should once again be made at the index [new_state][current_state][action].\n",
    "    # For example, R[2][1][3] = -20 indicates that if we take action 3 from cell 1 and reach cell 2, the reward is -20.\n",
    "    # Update the entries in the matrix R with the correct values below. \n",
    "\n",
    "for s in range(num_states):\n",
    "    row, col = state_to_coords(s)\n",
    "\n",
    "    if s == green_cell:\n",
    "        continue  # terminal state, no transitions\n",
    "\n",
    "    for a in range(num_actions):\n",
    "        # Determine next state\n",
    "        new_row, new_col = row, col\n",
    "\n",
    "        if a == 0 and row > 0:       # up\n",
    "            new_row -= 1\n",
    "        elif a == 1 and row < 2:     # down\n",
    "            new_row += 1\n",
    "        elif a == 2 and col > 0:     # left\n",
    "            new_col -= 1\n",
    "        elif a == 3 and col < 2:     # right\n",
    "            new_col += 1\n",
    "        else:\n",
    "            continue  # invalid move\n",
    "\n",
    "        s_new = coords_to_state(new_row, new_col)\n",
    "\n",
    "        # Transition matrix: T[new_state][current_state][action] = 1\n",
    "        T[s_new][s][a] = 1.0\n",
    "\n",
    "        # Reward matrix\n",
    "        if s_new in red_cells:\n",
    "            R[s_new][s][a] = -20\n",
    "        elif s_new == yellow_cell:\n",
    "            R[s_new][s][a] = 5\n",
    "        elif s_new == green_cell:\n",
    "            R[s_new][s][a] = 10\n",
    "        else:\n",
    "            R[s_new][s][a] = 0"
   ]
  },
  {
   "cell_type": "code",
   "execution_count": 19,
   "id": "6aa0769d-4d9a-461f-beb0-1e00cf8dd1b4",
   "metadata": {},
   "outputs": [],
   "source": [
    "# P_0 is simply the initial probability distribution. This represents where your agent is at the beginning.\n",
    "# If there is only one possible start state, the probability distribution is simply a one-hot vector,\n",
    "# where the probability at the start state is 1 and 0 elsewhere.\n",
    "\n",
    "import numpy as np\n",
    "\n",
    "P_0 = np.zeros(num_states)\n",
    "P_0[0] = 1 "
   ]
  },
  {
   "cell_type": "code",
   "execution_count": 20,
   "id": "515f2f0d-09b1-4bad-9163-73c901ce7d7b",
   "metadata": {},
   "outputs": [],
   "source": [
    "import matrix_mdp\n",
    "import gymnasium as gym\n",
    "env = gym.make('matrix_mdp/MatrixMDP-v0', p_0=P_0, p=T, r=R)"
   ]
  },
  {
   "cell_type": "code",
   "execution_count": 21,
   "id": "ca894307-9976-4215-bc81-c751fc00d66d",
   "metadata": {},
   "outputs": [],
   "source": [
    "#First, we reset the environment and get the initial observation.\n",
    "observation, info = env.reset()"
   ]
  },
  {
   "cell_type": "markdown",
   "id": "b07c9c72-19ec-4995-828f-a74b7a32ed3b",
   "metadata": {},
   "source": [
    "Below, write the code for random exploration, i.e. randomly choosing an action at each time step and executing it.\n",
    "\n",
    "A random action is simply a random integer between 0 and the number of actions (num_actions not inclusive).\n",
    "However, you should make sure that the chosen action can actually be taken from the current state (i.e., the chosen action is valid).\n",
    "\n",
    "Keep track of the total reward in each episode, and reset the environment when the episode terminates.\n",
    "\n",
    "Print the average reward obtained over 10000 episodes. "
   ]
  },
  {
   "cell_type": "code",
   "execution_count": 22,
   "id": "3f2d1662-ba33-4f01-aec6-88be1cfa8c58",
   "metadata": {},
   "outputs": [],
   "source": [
    "# setting total reward as zero\n",
    "total_rewards = 0.0"
   ]
  },
  {
   "cell_type": "code",
   "execution_count": 24,
   "id": "1d33a4a4-8b6b-452e-bc71-ec6adfdda8f9",
   "metadata": {},
   "outputs": [
    {
     "name": "stdout",
     "output_type": "stream",
     "text": [
      "Average reward obtained:  -51.008\n"
     ]
    }
   ],
   "source": [
    "import random\n",
    "\n",
    "reward_list = []\n",
    "\n",
    "for i in range(10000):\n",
    "    observation, info = env.reset()\n",
    "    total_rewards = 0\n",
    "    while True:\n",
    "        # Pick a random valid action from current state's valid actions\n",
    "        valid_actions = states_actions_map[observation]\n",
    "        if not valid_actions:\n",
    "            break  # no valid actions (terminal state)\n",
    "        action = random.choice(valid_actions)\n",
    "\n",
    "        # Take a step in the environment\n",
    "        new_obs, reward, terminated, truncated, _ = env.step(action)\n",
    "\n",
    "        # Accumulate reward\n",
    "        total_rewards += reward\n",
    "\n",
    "        # Move to next state\n",
    "        observation = new_obs\n",
    "\n",
    "        # End episode if terminal or truncated\n",
    "        if terminated or truncated:\n",
    "            break\n",
    "\n",
    "    reward_list.append(total_rewards)\n",
    "\n",
    "# Calculate and print average reward\n",
    "avg_reward = sum(reward_list) / len(reward_list)\n",
    "print(\"Average reward obtained: \", avg_reward)\n"
   ]
  },
  {
   "cell_type": "markdown",
   "id": "04b22b01-2c98-4ad3-b9c6-6f1d9416868d",
   "metadata": {},
   "source": [
    "Hope this lab helped you understand how to set up and navigate an environment in Gymnasium. \n",
    "As always, please don't hesitate to reach out to the instructor or the TAs if you have any questions!"
   ]
  }
 ],
 "metadata": {
  "kernelspec": {
   "display_name": "a1",
   "language": "python",
   "name": "python3"
  },
  "language_info": {
   "codemirror_mode": {
    "name": "ipython",
    "version": 3
   },
   "file_extension": ".py",
   "mimetype": "text/x-python",
   "name": "python",
   "nbconvert_exporter": "python",
   "pygments_lexer": "ipython3",
   "version": "3.11.12"
  }
 },
 "nbformat": 4,
 "nbformat_minor": 5
}
